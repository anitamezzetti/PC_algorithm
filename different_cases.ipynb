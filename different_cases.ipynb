{
 "cells": [
  {
   "cell_type": "code",
   "execution_count": 14,
   "metadata": {},
   "outputs": [],
   "source": [
    "import numpy as np\n",
    "from scipy.io import loadmat\n",
    "import networkx as nx\n",
    "from scipy.stats import norm\n",
    "import matplotlib.pyplot as plt\n",
    "from numpy.linalg import det, inv\n",
    "import math\n",
    "import time\n",
    "import pingouin as pg\n",
    "import pandas as pd\n",
    "\n",
    "import numpy as N, networkx as nx\n",
    "import sys \n",
    "from networkx import DiGraph\n",
    "from itertools import combinations, permutations, chain\n",
    "from networkx.algorithms.cycles import find_cycle, simple_cycles\n",
    "import warnings\n",
    "warnings.simplefilter(action='ignore', category=FutureWarning)\n",
    "warnings.simplefilter(action='ignore', category=DeprecationWarning)\n",
    "import itertools "
   ]
  },
  {
   "cell_type": "markdown",
   "metadata": {},
   "source": [
    "Import functions from the principal notebook problem1.ipynb\n"
   ]
  },
  {
   "cell_type": "code",
   "execution_count": 15,
   "metadata": {},
   "outputs": [],
   "source": [
    "from ipynb.fs.full.problem1 import complete_graph, cond_part_corr_normal, threshold, find_v_struct, is_unshielded_collider\n",
    "from ipynb.fs.full.problem1 import statistical_orientation, find_colliders, logical_orientation, is_dag, completely_connected_directed_graph\n",
    "#from ipynb.fs.full.problem1 import find_colliders_also_linked, find_tails, find_cycles, check_add_edge_cycle, avoid_cycles\n",
    "#from ipynb.fs.full.problem1 import undirected_edges, equivalence_classes, num_equivalence_class\n",
    "from ipynb.fs.full.problem1meek import part_corr_pingouin"
   ]
  },
  {
   "cell_type": "code",
   "execution_count": null,
   "metadata": {},
   "outputs": [],
   "source": [
    "n = 10000\n",
    "nodes_many = list(range(n))\n",
    "print(f\"Time to create the complete undirect graph of {n} nodes:\")\n",
    "      \n",
    "start = time.time()\n",
    "complete_graph(nodes_many)\n",
    "end = time.time()\n",
    "print(f\"Implemented function {end - start} sec\")\n",
    "\n",
    "start = time.time()\n",
    "nx.complete_graph(nodes_many)\n",
    "end = time.time()\n",
    "print(f\"Networkx function {end - start} sec\")"
   ]
  },
  {
   "cell_type": "code",
   "execution_count": 16,
   "metadata": {},
   "outputs": [
    {
     "name": "stdout",
     "output_type": "stream",
     "text": [
      "Partial correlation using the gaussian property 0.001993417739868164 sec\n",
      "Partial correlation using Pingouin 0.04825234413146973 sec\n",
      "\n",
      "We can see that the results are almost the same\n",
      "0.0009481858635809481 0.000948185863580827\n"
     ]
    }
   ],
   "source": [
    "data = loadmat(\"Data.mat\")['D']\n",
    "cov = np.cov(data.T)\n",
    "\n",
    "import pandas as pd\n",
    "\n",
    "xi = 0\n",
    "xj = 1\n",
    "S = [2,3,4,5,6,7]\n",
    "\n",
    "start = time.time()\n",
    "part1 = cond_part_corr_normal (cov,[xi,xj],S)\n",
    "end = time.time()\n",
    "print(f\"Partial correlation using the gaussian property {end - start} sec\")\n",
    "\n",
    "start = time.time()\n",
    "part2 = part_corr_pingouin (data,[xi,xj],S)\n",
    "end = time.time()\n",
    "print(f\"Partial correlation using Pingouin {end - start} sec\")\n",
    "\n",
    "print(\"\\nWe can see that the results are almost the same\")\n",
    "print( part1 , part2)"
   ]
  },
  {
   "cell_type": "markdown",
   "metadata": {},
   "source": [
    "### . Unshielded colliders\n",
    "\n",
    "This part of the problem requires to add edges, when possible, without creating new colliders. An important feature that this algorithm must have (as well as the other algorithms) is that it must work iteratively: if we add an edge we must recheck everything, because this added edge can help to add others and so on. We must be able to stop when we cannot add any other edges. Let's see how it works with an example"
   ]
  },
  {
   "cell_type": "code",
   "execution_count": null,
   "metadata": {},
   "outputs": [],
   "source": [
    "# directed\n",
    "dG4 = nx.DiGraph()\n",
    "dG4.add_edges_from(([3,1],[6,1]))\n",
    "\n",
    "# undirected\n",
    "G4 = nx.Graph()\n",
    "G4.add_edges_from(([6,1], [1,2], [2,1], [3,1], [2,3], [5,4], [1,5]))\n",
    "\n",
    "pos = nx.planar_layout(G4)\n",
    "nx.draw(G4, pos=pos, with_labels=True)"
   ]
  },
  {
   "cell_type": "code",
   "execution_count": null,
   "metadata": {},
   "outputs": [],
   "source": [
    "nx.draw(dG4, pos=pos, with_labels=True)"
   ]
  },
  {
   "cell_type": "markdown",
   "metadata": {},
   "source": [
    "### . Avoid Big cycles\n",
    "\n",
    "In this case we want to prove that the algorithm is able to direct also edges in undirected cycles with more than 3 edges"
   ]
  },
  {
   "cell_type": "code",
   "execution_count": null,
   "metadata": {},
   "outputs": [],
   "source": [
    "# directed\n",
    "dG1 = nx.DiGraph()\n",
    "dG1.add_edges_from(([1,2],[2,3],[3,4],[4,5]))\n",
    "\n",
    "# undirected\n",
    "G1 = nx.Graph()\n",
    "G1.add_edges_from(([1,2],[2,3],[3,4],[4,5], [5,1],[3,5]))\n",
    "\n",
    "pos = nx.spring_layout(G1)\n",
    "nx.draw(G1, pos=pos, with_labels=True)"
   ]
  },
  {
   "cell_type": "code",
   "execution_count": null,
   "metadata": {},
   "outputs": [],
   "source": [
    "nx.draw(dG1, pos=pos, with_labels=True)"
   ]
  },
  {
   "cell_type": "code",
   "execution_count": null,
   "metadata": {},
   "outputs": [],
   "source": [
    "avoid_cycles(G1, dG1)\n",
    "\n",
    "nx.draw(dG1, pos=pos, with_labels=True)"
   ]
  },
  {
   "cell_type": "markdown",
   "metadata": {},
   "source": [
    "We not that when the algorithm analyse the big cycle [1, 5, 4, 3, 2] is able to ignore inner edges and add add the right edge 1->5"
   ]
  },
  {
   "cell_type": "code",
   "execution_count": null,
   "metadata": {},
   "outputs": [],
   "source": [
    "nx.draw(dG1, pos=pos, with_labels=True)"
   ]
  },
  {
   "cell_type": "markdown",
   "metadata": {},
   "source": [
    "### . Avoid Big cyles and use new edges in next loops"
   ]
  },
  {
   "cell_type": "code",
   "execution_count": null,
   "metadata": {},
   "outputs": [],
   "source": [
    "# directed\n",
    "dG11 = nx.DiGraph()\n",
    "dG11.add_edges_from(([1,2],[2,3],[3,4],[5,1]))\n",
    "\n",
    "# undirected\n",
    "G11 = nx.Graph()\n",
    "G11.add_edges_from(([1,2],[2,3],[3,4],[4,5], [5,1],[3,5]))\n",
    "\n",
    "pos = nx.planar_layout(G11)\n",
    "nx.draw(G11, pos=pos, with_labels=True)"
   ]
  },
  {
   "cell_type": "code",
   "execution_count": null,
   "metadata": {},
   "outputs": [],
   "source": [
    "nx.draw(dG11, pos=pos, with_labels=True)"
   ]
  },
  {
   "cell_type": "code",
   "execution_count": null,
   "metadata": {},
   "outputs": [],
   "source": [
    "avoid_cycles(G11, dG11)\n",
    "\n",
    "nx.draw(dG11, pos=pos, with_labels=True)"
   ]
  },
  {
   "cell_type": "markdown",
   "metadata": {},
   "source": [
    "In this case the algorithm is able to firstly analyse the big cycle, adding the right edge, and then, considering the new information, orient also the inner edge 3-5"
   ]
  },
  {
   "cell_type": "markdown",
   "metadata": {},
   "source": [
    "### . Count equivalence classes indipendent case\n",
    "\n",
    "Count the number of equivalence classes in a case when we have more than one missing edge"
   ]
  },
  {
   "cell_type": "code",
   "execution_count": null,
   "metadata": {},
   "outputs": [],
   "source": [
    "# directed\n",
    "dG2 = nx.DiGraph()\n",
    "dG2.add_edges_from(([1,2],[2,3],[4,3],[4,2]))\n",
    "\n",
    "# undirected\n",
    "G2 = nx.Graph()\n",
    "G2.add_edges_from(([1,2],[2,3],[3,4],[4,2], [1,5], [4,6]))\n",
    "\n",
    "fig, ax = plt.subplots(figsize=(5, 5))\n",
    "pos = nx.spring_layout(G2)\n",
    "nx.draw(G2, pos=pos, with_labels=True)"
   ]
  },
  {
   "cell_type": "code",
   "execution_count": null,
   "metadata": {},
   "outputs": [],
   "source": [
    "fig, ax = plt.subplots(figsize=(5, 5))\n",
    "nx.draw(dG2, pos=pos, with_labels=True)"
   ]
  },
  {
   "cell_type": "markdown",
   "metadata": {},
   "source": [
    "In this case the two undirected edges (1-5 and 6-4) should be indipendend from each other. So direct one of them should not influence the direction of the other. We should obtain 4 equivalnce classes:"
   ]
  },
  {
   "cell_type": "code",
   "execution_count": null,
   "metadata": {},
   "outputs": [],
   "source": [
    "equi_classes = []\n",
    "num_equivalence_class(G2, dG2)"
   ]
  },
  {
   "cell_type": "markdown",
   "metadata": {},
   "source": [
    "ok! They are four. let's see if they are the one we expect:"
   ]
  },
  {
   "cell_type": "code",
   "execution_count": null,
   "metadata": {},
   "outputs": [],
   "source": [
    "equi_classes = []\n",
    "a = equivalence_classes(equi_classes, G2, dG2)"
   ]
  },
  {
   "cell_type": "code",
   "execution_count": null,
   "metadata": {},
   "outputs": [],
   "source": [
    "fig, ax = plt.subplots(figsize=(5, 5))\n",
    "nx.draw(a[0], pos=pos, with_labels=True)"
   ]
  },
  {
   "cell_type": "code",
   "execution_count": null,
   "metadata": {},
   "outputs": [],
   "source": [
    "fig, ax = plt.subplots(figsize=(5, 5))\n",
    "nx.draw(a[1], pos=pos, with_labels=True)"
   ]
  },
  {
   "cell_type": "code",
   "execution_count": null,
   "metadata": {},
   "outputs": [],
   "source": [
    "fig, ax = plt.subplots(figsize=(5, 5))\n",
    "nx.draw(a[2], pos=pos, with_labels=True)"
   ]
  },
  {
   "cell_type": "code",
   "execution_count": null,
   "metadata": {},
   "outputs": [],
   "source": [
    "fig, ax = plt.subplots(figsize=(5, 5))\n",
    "nx.draw(a[3], pos=pos, with_labels=True)"
   ]
  },
  {
   "cell_type": "markdown",
   "metadata": {},
   "source": [
    "okay :)"
   ]
  },
  {
   "cell_type": "markdown",
   "metadata": {},
   "source": [
    "### . Count equivalence classes dipendent case\n",
    "\n",
    "Count the number of equivalence classes in harder cases"
   ]
  },
  {
   "cell_type": "code",
   "execution_count": null,
   "metadata": {},
   "outputs": [],
   "source": [
    "# directed\n",
    "dG3 = nx.DiGraph()\n",
    "dG3.add_edges_from(([1,2],[2,3],[4,3]))\n",
    "\n",
    "# undirected\n",
    "G3 = nx.Graph()\n",
    "G3.add_edges_from(([1,2],[2,3],[3,4],[4,2], [4,1]))\n",
    "\n",
    "fig, ax = plt.subplots(figsize=(5, 5))\n",
    "pos = nx.spring_layout(G3)\n",
    "nx.draw(G3, pos=pos, with_labels=True)"
   ]
  },
  {
   "cell_type": "code",
   "execution_count": null,
   "metadata": {},
   "outputs": [],
   "source": [
    "fig, ax = plt.subplots(figsize=(5, 5))\n",
    "nx.draw(dG3, pos=pos, with_labels=True)"
   ]
  },
  {
   "cell_type": "markdown",
   "metadata": {},
   "source": [
    "In this case the two undirected edges (1-4 and 2-4) should be dependend from each other. So, direct one of them should influence the direction of the other. Edge 2-4 is 'free': both sides are okay in terms of cycles and colliders. However, once we direct it, 1-4 is not free. For this reason we have (thinking about it) that if 2->4 we must have 1->4 to avoid cycles, while if 4->2 also 1-4 is free. Therefore, we should find 3 cases. Let's see if the code works "
   ]
  },
  {
   "cell_type": "code",
   "execution_count": null,
   "metadata": {},
   "outputs": [],
   "source": [
    "equi_classes = []\n",
    "num_equivalence_class(G3, dG3)"
   ]
  },
  {
   "cell_type": "markdown",
   "metadata": {},
   "source": [
    "ok! They are four. let's see if they are the one we expect:"
   ]
  },
  {
   "cell_type": "code",
   "execution_count": null,
   "metadata": {},
   "outputs": [],
   "source": [
    "equi_classes = []\n",
    "a = equivalence_classes(equi_classes, G3, dG3)"
   ]
  },
  {
   "cell_type": "code",
   "execution_count": null,
   "metadata": {},
   "outputs": [],
   "source": [
    "fig, ax = plt.subplots(figsize=(5, 5))\n",
    "nx.draw(a[0], pos=pos, with_labels=True)"
   ]
  },
  {
   "cell_type": "code",
   "execution_count": null,
   "metadata": {},
   "outputs": [],
   "source": [
    "fig, ax = plt.subplots(figsize=(5, 5))\n",
    "nx.draw(a[1], pos=pos, with_labels=True)"
   ]
  },
  {
   "cell_type": "code",
   "execution_count": null,
   "metadata": {},
   "outputs": [],
   "source": [
    "fig, ax = plt.subplots(figsize=(5, 5))\n",
    "nx.draw(a[2], pos=pos, with_labels=True)"
   ]
  },
  {
   "cell_type": "markdown",
   "metadata": {},
   "source": [
    "okay :)"
   ]
  },
  {
   "cell_type": "code",
   "execution_count": null,
   "metadata": {},
   "outputs": [],
   "source": []
  },
  {
   "cell_type": "code",
   "execution_count": null,
   "metadata": {},
   "outputs": [],
   "source": []
  }
 ],
 "metadata": {
  "kernelspec": {
   "display_name": "Python 3",
   "language": "python",
   "name": "python3"
  },
  "language_info": {
   "codemirror_mode": {
    "name": "ipython",
    "version": 3
   },
   "file_extension": ".py",
   "mimetype": "text/x-python",
   "name": "python",
   "nbconvert_exporter": "python",
   "pygments_lexer": "ipython3",
   "version": "3.8.2"
  }
 },
 "nbformat": 4,
 "nbformat_minor": 4
}
